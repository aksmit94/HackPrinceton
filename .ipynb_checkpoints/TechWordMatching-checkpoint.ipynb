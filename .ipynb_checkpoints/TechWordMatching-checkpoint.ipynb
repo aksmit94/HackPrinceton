{
 "cells": [
  {
   "cell_type": "code",
   "execution_count": 113,
   "metadata": {},
   "outputs": [],
   "source": [
    "import urllib\n",
    "query = 'homeless'\n",
    "num_results = 100\n",
    "url_link = ('http://export.arxiv.org/api/query?search_query=all:' + query + '&start=0&max_results=' + str(num_results))\n",
    "with urllib.request.urlopen(url_link) as url:\n",
    "    data = url.read()"
   ]
  },
  {
   "cell_type": "code",
   "execution_count": 114,
   "metadata": {},
   "outputs": [],
   "source": [
    "data = data.decode(\"utf-8\") \n",
    "data = data.lower()\n",
    "data = data.replace('\\n',' ')\n",
    "data = data.replace('$','')\n",
    "data = data.split('summary>')"
   ]
  },
  {
   "cell_type": "code",
   "execution_count": 115,
   "metadata": {},
   "outputs": [],
   "source": [
    "s = ''\n",
    "summary = []\n",
    "for i in range(len(data)):\n",
    "    data[i] = data[i].replace('<', '')\n",
    "    data[i] = data[i].replace('>', '')\n",
    "    data[i] = data[i].replace('/', '')\n",
    "    data[i] = data[i].replace(query, '')\n",
    "    if (i % 2 == 1):\n",
    "        s += data[i] + '\\n'\n",
    "        summary.append(data[i])"
   ]
  },
  {
   "cell_type": "code",
   "execution_count": 116,
   "metadata": {},
   "outputs": [],
   "source": [
    "# write to file\n",
    "file = open('papers.txt','w')\n",
    "_ = file.write(s)"
   ]
  },
  {
   "cell_type": "code",
   "execution_count": 117,
   "metadata": {},
   "outputs": [],
   "source": [
    "words = open('clean_list2.txt').readlines()"
   ]
  },
  {
   "cell_type": "code",
   "execution_count": 118,
   "metadata": {},
   "outputs": [],
   "source": [
    "for i in range(len(words)):\n",
    "    words[i] = words[i].replace('\\n','')\n",
    "    words[i] = ' ' + words[i] + ' '"
   ]
  },
  {
   "cell_type": "code",
   "execution_count": 119,
   "metadata": {},
   "outputs": [],
   "source": [
    "def count_words(string):       \n",
    "    counts = {word: 0 for word in words}\n",
    "    \n",
    "    for word in counts:\n",
    "        counts[word] = string.count(word)\n",
    "    \n",
    "    return counts"
   ]
  },
  {
   "cell_type": "code",
   "execution_count": 120,
   "metadata": {},
   "outputs": [],
   "source": [
    "counts = count_words(s)"
   ]
  },
  {
   "cell_type": "code",
   "execution_count": 121,
   "metadata": {},
   "outputs": [],
   "source": [
    "for word in list(counts):\n",
    "    if(word == '' or counts[word] == 0):\n",
    "        counts.pop(word)"
   ]
  },
  {
   "cell_type": "code",
   "execution_count": 122,
   "metadata": {},
   "outputs": [
    {
     "data": {
      "text/plain": [
       "{' machine learning ': 2,\n",
       " ' pca ': 2,\n",
       " ' boosting ': 2,\n",
       " ' classification ': 1,\n",
       " ' regression ': 1}"
      ]
     },
     "execution_count": 122,
     "metadata": {},
     "output_type": "execute_result"
    }
   ],
   "source": [
    "counts"
   ]
  },
  {
   "cell_type": "code",
   "execution_count": null,
   "metadata": {},
   "outputs": [],
   "source": []
  }
 ],
 "metadata": {
  "kernelspec": {
   "display_name": "Python 3",
   "language": "python",
   "name": "python3"
  },
  "language_info": {
   "codemirror_mode": {
    "name": "ipython",
    "version": 3
   },
   "file_extension": ".py",
   "mimetype": "text/x-python",
   "name": "python",
   "nbconvert_exporter": "python",
   "pygments_lexer": "ipython3",
   "version": "3.7.0"
  }
 },
 "nbformat": 4,
 "nbformat_minor": 2
}
